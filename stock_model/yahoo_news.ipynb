{
 "cells": [
  {
   "cell_type": "code",
   "execution_count": 3,
   "id": "0970f110-f58d-4781-bec4-58cbd0b5b988",
   "metadata": {},
   "outputs": [
    {
     "name": "stdout",
     "output_type": "stream",
     "text": [
      "Collecting textblob\n",
      "  Downloading textblob-0.18.0.post0-py3-none-any.whl (626 kB)\n",
      "\u001b[K     |████████████████████████████████| 626 kB 1.3 MB/s eta 0:00:01     |████████████████▏               | 317 kB 1.3 MB/s eta 0:00:01\n",
      "\u001b[?25hCollecting nltk>=3.8\n",
      "  Downloading nltk-3.8.1-py3-none-any.whl (1.5 MB)\n",
      "\u001b[K     |████████████████████████████████| 1.5 MB 10.1 MB/s eta 0:00:01\n",
      "\u001b[?25hRequirement already satisfied: tqdm in /Library/Frameworks/Python.framework/Versions/3.10/lib/python3.10/site-packages (from nltk>=3.8->textblob) (4.66.4)\n",
      "Collecting joblib\n",
      "  Downloading joblib-1.4.2-py3-none-any.whl (301 kB)\n",
      "\u001b[K     |████████████████████████████████| 301 kB 10.9 MB/s eta 0:00:01\n",
      "\u001b[?25hCollecting click\n",
      "  Downloading click-8.1.7-py3-none-any.whl (97 kB)\n",
      "\u001b[K     |████████████████████████████████| 97 kB 4.7 MB/s  eta 0:00:01\n",
      "\u001b[?25hCollecting regex>=2021.8.3\n",
      "  Downloading regex-2024.5.15-cp310-cp310-macosx_10_9_x86_64.whl (281 kB)\n",
      "\u001b[K     |████████████████████████████████| 281 kB 11.9 MB/s eta 0:00:01\n",
      "\u001b[?25hInstalling collected packages: regex, joblib, click, nltk, textblob\n",
      "Successfully installed click-8.1.7 joblib-1.4.2 nltk-3.8.1 regex-2024.5.15 textblob-0.18.0.post0\n",
      "\u001b[33mWARNING: You are using pip version 21.2.3; however, version 24.1.2 is available.\n",
      "You should consider upgrading via the '/Library/Frameworks/Python.framework/Versions/3.10/bin/python3 -m pip install --upgrade pip' command.\u001b[0m\n",
      "Note: you may need to restart the kernel to use updated packages.\n"
     ]
    }
   ],
   "source": [
    "pip install textblob"
   ]
  },
  {
   "cell_type": "code",
   "execution_count": 97,
   "id": "d74998a3-d1e1-4fcf-9666-3defd9ab1c6e",
   "metadata": {},
   "outputs": [
    {
     "name": "stdout",
     "output_type": "stream",
     "text": [
      "情緒分數 (polarity): 0.8\n",
      "主觀性 (subjectivity): 1.0\n"
     ]
    }
   ],
   "source": [
    "from textblob import TextBlob\n",
    "\n",
    "def analyze_sentiment(text):\n",
    "    # 創建TextBlob對象\n",
    "    blob = TextBlob(text)\n",
    "    \n",
    "    # 獲取情緒分析結果\n",
    "    sentiment = blob.sentiment\n",
    "    \n",
    "    # 提取情緒分數和主觀性\n",
    "    polarity = sentiment.polarity  # 情緒分數，範圍從-1（負面）到1（正面）\n",
    "    subjectivity = sentiment.subjectivity  # 主觀性，範圍從0（客觀）到1（主觀）\n",
    "    \n",
    "    return polarity, subjectivity\n",
    "\n",
    "# 測試文本\n",
    "text = \"i am happy\"\n",
    "\n",
    "# 分析情緒\n",
    "polarity, subjectivity = analyze_sentiment(text)\n",
    "\n",
    "print(f\"情緒分數 (polarity): {polarity}\")\n",
    "print(f\"主觀性 (subjectivity): {subjectivity}\")\n"
   ]
  },
  {
   "cell_type": "code",
   "execution_count": 8,
   "id": "32b23fb6-45d5-47ea-b93b-3d813469a23e",
   "metadata": {},
   "outputs": [
    {
     "name": "stdout",
     "output_type": "stream",
     "text": [
      "Collecting vaderSentiment\n",
      "  Downloading vaderSentiment-3.3.2-py2.py3-none-any.whl (125 kB)\n",
      "\u001b[K     |████████████████████████████████| 125 kB 1.2 MB/s eta 0:00:01\n",
      "\u001b[?25hRequirement already satisfied: requests in /Library/Frameworks/Python.framework/Versions/3.10/lib/python3.10/site-packages (from vaderSentiment) (2.32.3)\n",
      "Requirement already satisfied: idna<4,>=2.5 in /Library/Frameworks/Python.framework/Versions/3.10/lib/python3.10/site-packages (from requests->vaderSentiment) (3.7)\n",
      "Requirement already satisfied: charset-normalizer<4,>=2 in /Library/Frameworks/Python.framework/Versions/3.10/lib/python3.10/site-packages (from requests->vaderSentiment) (3.3.2)\n",
      "Requirement already satisfied: certifi>=2017.4.17 in /Library/Frameworks/Python.framework/Versions/3.10/lib/python3.10/site-packages (from requests->vaderSentiment) (2024.6.2)\n",
      "Requirement already satisfied: urllib3<3,>=1.21.1 in /Library/Frameworks/Python.framework/Versions/3.10/lib/python3.10/site-packages (from requests->vaderSentiment) (2.2.1)\n",
      "Installing collected packages: vaderSentiment\n",
      "Successfully installed vaderSentiment-3.3.2\n",
      "\u001b[33mWARNING: You are using pip version 21.2.3; however, version 24.1.2 is available.\n",
      "You should consider upgrading via the '/Library/Frameworks/Python.framework/Versions/3.10/bin/python3 -m pip install --upgrade pip' command.\u001b[0m\n",
      "Note: you may need to restart the kernel to use updated packages.\n"
     ]
    }
   ],
   "source": [
    "pip install vaderSentiment"
   ]
  },
  {
   "cell_type": "code",
   "execution_count": 17,
   "id": "1936172e-ff7e-48d5-8d6e-5b4ee70452cc",
   "metadata": {},
   "outputs": [
    {
     "name": "stdout",
     "output_type": "stream",
     "text": [
      "Collecting googletrans==4.0.0-rc1\n",
      "  Downloading googletrans-4.0.0rc1.tar.gz (20 kB)\n",
      "Collecting httpx==0.13.3\n",
      "  Downloading httpx-0.13.3-py3-none-any.whl (55 kB)\n",
      "\u001b[K     |████████████████████████████████| 55 kB 964 kB/s eta 0:00:01\n",
      "\u001b[?25hCollecting chardet==3.*\n",
      "  Using cached chardet-3.0.4-py2.py3-none-any.whl (133 kB)\n",
      "Collecting hstspreload\n",
      "  Downloading hstspreload-2024.7.1-py3-none-any.whl (1.2 MB)\n",
      "\u001b[K     |████████████████████████████████| 1.2 MB 2.0 MB/s eta 0:00:01\n",
      "\u001b[?25hCollecting idna==2.*\n",
      "  Using cached idna-2.10-py2.py3-none-any.whl (58 kB)\n",
      "Requirement already satisfied: sniffio in /Library/Frameworks/Python.framework/Versions/3.10/lib/python3.10/site-packages (from httpx==0.13.3->googletrans==4.0.0-rc1) (1.3.1)\n",
      "Collecting httpcore==0.9.*\n",
      "  Downloading httpcore-0.9.1-py3-none-any.whl (42 kB)\n",
      "\u001b[K     |████████████████████████████████| 42 kB 2.8 MB/s  eta 0:00:01\n",
      "\u001b[?25hCollecting rfc3986<2,>=1.3\n",
      "  Downloading rfc3986-1.5.0-py2.py3-none-any.whl (31 kB)\n",
      "Requirement already satisfied: certifi in /Library/Frameworks/Python.framework/Versions/3.10/lib/python3.10/site-packages (from httpx==0.13.3->googletrans==4.0.0-rc1) (2024.6.2)\n",
      "Collecting h11<0.10,>=0.8\n",
      "  Downloading h11-0.9.0-py2.py3-none-any.whl (53 kB)\n",
      "\u001b[K     |████████████████████████████████| 53 kB 5.0 MB/s  eta 0:00:01\n",
      "\u001b[?25hCollecting h2==3.*\n",
      "  Downloading h2-3.2.0-py2.py3-none-any.whl (65 kB)\n",
      "\u001b[K     |████████████████████████████████| 65 kB 5.6 MB/s  eta 0:00:01\n",
      "\u001b[?25hCollecting hpack<4,>=3.0\n",
      "  Downloading hpack-3.0.0-py2.py3-none-any.whl (38 kB)\n",
      "Collecting hyperframe<6,>=5.2.0\n",
      "  Downloading hyperframe-5.2.0-py2.py3-none-any.whl (12 kB)\n",
      "Using legacy 'setup.py install' for googletrans, since package 'wheel' is not installed.\n",
      "Installing collected packages: hyperframe, hpack, h2, h11, rfc3986, idna, httpcore, hstspreload, chardet, httpx, googletrans\n",
      "  Attempting uninstall: h11\n",
      "    Found existing installation: h11 0.14.0\n",
      "    Uninstalling h11-0.14.0:\n",
      "      Successfully uninstalled h11-0.14.0\n",
      "  Attempting uninstall: idna\n",
      "    Found existing installation: idna 3.7\n",
      "    Uninstalling idna-3.7:\n",
      "      Successfully uninstalled idna-3.7\n",
      "  Attempting uninstall: httpcore\n",
      "    Found existing installation: httpcore 1.0.5\n",
      "    Uninstalling httpcore-1.0.5:\n",
      "      Successfully uninstalled httpcore-1.0.5\n",
      "  Attempting uninstall: httpx\n",
      "    Found existing installation: httpx 0.27.0\n",
      "    Uninstalling httpx-0.27.0:\n",
      "      Successfully uninstalled httpx-0.27.0\n",
      "    Running setup.py install for googletrans ... \u001b[?25ldone\n",
      "\u001b[31mERROR: pip's dependency resolver does not currently take into account all the packages that are installed. This behaviour is the source of the following dependency conflicts.\n",
      "jupyterlab 4.2.1 requires httpx>=0.25.0, but you have httpx 0.13.3 which is incompatible.\u001b[0m\n",
      "\u001b[?25hSuccessfully installed chardet-3.0.4 googletrans-4.0.0rc1 h11-0.9.0 h2-3.2.0 hpack-3.0.0 hstspreload-2024.7.1 httpcore-0.9.1 httpx-0.13.3 hyperframe-5.2.0 idna-2.10 rfc3986-1.5.0\n",
      "\u001b[33mWARNING: You are using pip version 21.2.3; however, version 24.1.2 is available.\n",
      "You should consider upgrading via the '/Library/Frameworks/Python.framework/Versions/3.10/bin/python3 -m pip install --upgrade pip' command.\u001b[0m\n",
      "Note: you may need to restart the kernel to use updated packages.\n"
     ]
    }
   ],
   "source": [
    "pip install googletrans==4.0.0-rc1\n"
   ]
  },
  {
   "cell_type": "code",
   "execution_count": 22,
   "id": "ddaee8a2-ecba-48d1-972f-bc777ba7d3c5",
   "metadata": {},
   "outputs": [
    {
     "name": "stdout",
     "output_type": "stream",
     "text": [
      "Collecting transformers\n",
      "  Downloading transformers-4.42.4-py3-none-any.whl (9.3 MB)\n",
      "\u001b[K     |████████████████████████████████| 9.3 MB 9.2 MB/s eta 0:00:01\n",
      "\u001b[?25hRequirement already satisfied: numpy<2.0,>=1.17 in /Library/Frameworks/Python.framework/Versions/3.10/lib/python3.10/site-packages (from transformers) (1.26.4)\n",
      "Requirement already satisfied: tqdm>=4.27 in /Library/Frameworks/Python.framework/Versions/3.10/lib/python3.10/site-packages (from transformers) (4.66.4)\n",
      "Collecting safetensors>=0.4.1\n",
      "  Downloading safetensors-0.4.3-cp310-cp310-macosx_10_12_x86_64.whl (415 kB)\n",
      "\u001b[K     |████████████████████████████████| 415 kB 12.0 MB/s eta 0:00:01\n",
      "\u001b[?25hRequirement already satisfied: packaging>=20.0 in /Library/Frameworks/Python.framework/Versions/3.10/lib/python3.10/site-packages (from transformers) (24.0)\n",
      "Requirement already satisfied: pyyaml>=5.1 in /Library/Frameworks/Python.framework/Versions/3.10/lib/python3.10/site-packages (from transformers) (6.0.1)\n",
      "Requirement already satisfied: huggingface-hub<1.0,>=0.23.2 in /Library/Frameworks/Python.framework/Versions/3.10/lib/python3.10/site-packages (from transformers) (0.23.3)\n",
      "Requirement already satisfied: filelock in /Library/Frameworks/Python.framework/Versions/3.10/lib/python3.10/site-packages (from transformers) (3.14.0)\n",
      "Collecting tokenizers<0.20,>=0.19\n",
      "  Downloading tokenizers-0.19.1-cp310-cp310-macosx_10_12_x86_64.whl (2.5 MB)\n",
      "\u001b[K     |████████████████████████████████| 2.5 MB 8.9 MB/s eta 0:00:01\n",
      "\u001b[?25hRequirement already satisfied: regex!=2019.12.17 in /Library/Frameworks/Python.framework/Versions/3.10/lib/python3.10/site-packages (from transformers) (2024.5.15)\n",
      "Requirement already satisfied: requests in /Library/Frameworks/Python.framework/Versions/3.10/lib/python3.10/site-packages (from transformers) (2.32.3)\n",
      "Requirement already satisfied: fsspec>=2023.5.0 in /Library/Frameworks/Python.framework/Versions/3.10/lib/python3.10/site-packages (from huggingface-hub<1.0,>=0.23.2->transformers) (2024.6.0)\n",
      "Requirement already satisfied: typing-extensions>=3.7.4.3 in /Library/Frameworks/Python.framework/Versions/3.10/lib/python3.10/site-packages (from huggingface-hub<1.0,>=0.23.2->transformers) (4.12.1)\n",
      "Requirement already satisfied: idna<4,>=2.5 in /Library/Frameworks/Python.framework/Versions/3.10/lib/python3.10/site-packages (from requests->transformers) (2.10)\n",
      "Requirement already satisfied: charset-normalizer<4,>=2 in /Library/Frameworks/Python.framework/Versions/3.10/lib/python3.10/site-packages (from requests->transformers) (3.3.2)\n",
      "Requirement already satisfied: certifi>=2017.4.17 in /Library/Frameworks/Python.framework/Versions/3.10/lib/python3.10/site-packages (from requests->transformers) (2024.6.2)\n",
      "Requirement already satisfied: urllib3<3,>=1.21.1 in /Library/Frameworks/Python.framework/Versions/3.10/lib/python3.10/site-packages (from requests->transformers) (2.2.1)\n",
      "Installing collected packages: tokenizers, safetensors, transformers\n",
      "Successfully installed safetensors-0.4.3 tokenizers-0.19.1 transformers-4.42.4\n",
      "\u001b[33mWARNING: You are using pip version 21.2.3; however, version 24.1.2 is available.\n",
      "You should consider upgrading via the '/Library/Frameworks/Python.framework/Versions/3.10/bin/python3 -m pip install --upgrade pip' command.\u001b[0m\n",
      "Note: you may need to restart the kernel to use updated packages.\n"
     ]
    }
   ],
   "source": [
    "pip install transformers"
   ]
  },
  {
   "cell_type": "code",
   "execution_count": 5,
   "id": "f7fee82a-71a3-44e6-aaa3-40dff2957d8b",
   "metadata": {},
   "outputs": [
    {
     "name": "stdout",
     "output_type": "stream",
     "text": [
      "Collecting torch\n",
      "  Downloading torch-2.2.2-cp310-none-macosx_10_9_x86_64.whl (150.8 MB)\n",
      "\u001b[K     |████████████████████████████████| 150.8 MB 6.7 MB/s eta 0:00:012  |                                | 122 kB 1.3 MB/s eta 0:01:55     |████████████▊                   | 59.9 MB 12.3 MB/s eta 0:00:08     |█████████████▊                  | 64.5 MB 12.3 MB/s eta 0:00:08     |█████████████████▋              | 83.0 MB 6.8 MB/s eta 0:00:10     |████████████████████████▉       | 117.0 MB 841 kB/s eta 0:00:41\n",
      "\u001b[?25hCollecting sympy\n",
      "  Downloading sympy-1.13.0-py3-none-any.whl (6.2 MB)\n",
      "\u001b[K     |████████████████████████████████| 6.2 MB 1.6 MB/s eta 0:00:01\n",
      "\u001b[?25hRequirement already satisfied: jinja2 in /Library/Frameworks/Python.framework/Versions/3.10/lib/python3.10/site-packages (from torch) (3.1.4)\n",
      "Requirement already satisfied: fsspec in /Library/Frameworks/Python.framework/Versions/3.10/lib/python3.10/site-packages (from torch) (2024.6.0)\n",
      "Requirement already satisfied: typing-extensions>=4.8.0 in /Library/Frameworks/Python.framework/Versions/3.10/lib/python3.10/site-packages (from torch) (4.12.1)\n",
      "Requirement already satisfied: filelock in /Library/Frameworks/Python.framework/Versions/3.10/lib/python3.10/site-packages (from torch) (3.14.0)\n",
      "Collecting networkx\n",
      "  Downloading networkx-3.3-py3-none-any.whl (1.7 MB)\n",
      "\u001b[K     |████████████████████████████████| 1.7 MB 3.2 MB/s eta 0:00:01\n",
      "\u001b[?25hRequirement already satisfied: MarkupSafe>=2.0 in /Library/Frameworks/Python.framework/Versions/3.10/lib/python3.10/site-packages (from jinja2->torch) (2.1.5)\n",
      "Collecting mpmath<1.4,>=1.1.0\n",
      "  Downloading mpmath-1.3.0-py3-none-any.whl (536 kB)\n",
      "\u001b[K     |████████████████████████████████| 536 kB 3.4 MB/s eta 0:00:01\n",
      "\u001b[?25hInstalling collected packages: mpmath, sympy, networkx, torch\n",
      "Successfully installed mpmath-1.3.0 networkx-3.3 sympy-1.13.0 torch-2.2.2\n",
      "\u001b[33mWARNING: You are using pip version 21.2.3; however, version 24.1.2 is available.\n",
      "You should consider upgrading via the '/Library/Frameworks/Python.framework/Versions/3.10/bin/python3 -m pip install --upgrade pip' command.\u001b[0m\n",
      "Note: you may need to restart the kernel to use updated packages.\n"
     ]
    }
   ],
   "source": [
    "pip install torch"
   ]
  },
  {
   "cell_type": "code",
   "execution_count": 93,
   "id": "fc612eeb-a881-4462-a244-1020e6165ca2",
   "metadata": {},
   "outputs": [
    {
     "name": "stdout",
     "output_type": "stream",
     "text": [
      "2024年7月17日 下午7:00 川普對於保台一事態度冷淡，直言台灣應該付美國保護費。（圖：shutterstock／達志）美國前總統川普近日接受媒體採訪時指出，台灣100％搶走我們的晶片事業，且跨太平洋去防衛一個小島是不實際的，再加上台灣很有錢，應該要為美國提供的保護付出更多代價。對此，財信傳媒董事長謝金河怒轟，川普漫天開價，如果台積電是中國的，美國還能當世界老大？謝金河今（17）日在臉書發文表示，美國保護需要付錢，其實這是川普一貫的立場，就像他對於拜登支助烏克蘭，也很不以為然，川普習慣用「Trade」交易來叫板，不過未來若登大位，恐怕不能那麼任性。謝金河分析，誰控制先進製程晶片，誰就控制全世界，失去台灣，美國怎麼偉大？這是川普必須面對的問題。針對川普說台灣搶了美國的晶片事業，謝反駁，其實這是國際分工，美國人做不來的。這些年台積電老早就到亞利桑那設廠，但面對美國勞工的罷工，沒有人願意加班的問題束手無策，反而是晚美國兩年的日本熊本已經開始運作，這是國際產業分工的現實。而台積電會擁有強大競爭力，謝金河認為，除了張忠謀，劉德音，魏哲家團隊的卓越領導，台積電員工任勞任怨的不眠不休努力，還有台積電亮眼的稅後淨利可以持續支持台積電的資本支出，不停地擴廠。謝金河強調，上述這些特質，川普可能沒有搞清楚。如果美國製造真的那麼強，今天的Intel怎麼會這麼慘？謝金河最後痛批，川普交易把複雜的問題簡單化，凡事漫天開價，連地緣政治戰略也拿來叫板，這會給美國帶來致命危險。最簡單的命題，如果台積電是中國的，美國還會是世界老大？\n"
     ]
    }
   ],
   "source": [
    "import requests\n",
    "from bs4 import BeautifulSoup\n",
    "\n",
    "stock_id = \"2330\"\n",
    "url = f\"https://tw.stock.yahoo.com/quote/{stock_id}.TW\"\n",
    "resp = requests.get(url)\n",
    "soup = BeautifulSoup(resp.text, 'html')\n",
    "link = soup.find('a', class_=\"Fw(b) Fz(20px) Fz(16px)--mobile Lh(23px) Lh(1.38)--mobile C($c-primary-text)! C($c-active-text)!:h LineClamp(2,46px)!--mobile LineClamp(2,46px)!--sm1024 mega-item-header-link Td(n) C(#0078ff):h C(#000) LineClamp(2,46px) LineClamp(2,38px)--sm1024 not-isInStreamVideoEnabled\")\n",
    "resp_info = requests.get(link['href'].strip())\n",
    "soup_info = BeautifulSoup(resp_info.text, 'html')\n",
    "news = soup_info.find('div', class_=\"caas-content-wrapper\")\n",
    "new_time = news.find('time', class_='caas-attr-meta-time').text\n",
    "paragraphs = news.find('div', class_='caas-body').find_all(\"p\")\n",
    "paragraphs = news.find('div', class_='caas-body')\n",
    "paragraphs_list = []\n",
    "for paragraph in paragraphs:\n",
    "    if paragraph.span:\n",
    "        break\n",
    "    paragraphs_list.append(paragraph)\n",
    "main_content = \"\".join([p.text for p in paragraphs_list])\n",
    "print(new_time, main_content)\n"
   ]
  },
  {
   "cell_type": "code",
   "execution_count": 96,
   "id": "cff00591-9df1-43b2-bda9-cce960119b81",
   "metadata": {},
   "outputs": [
    {
     "name": "stdout",
     "output_type": "stream",
     "text": [
      "文章內容: 川普對於保台一事態度冷淡，直言台灣應該付美國保護費。（圖：shutterstock／達志）美國前總統川普近日接受媒體採訪時指出，台灣100％搶走我們的晶片事業，且跨太平洋去防衛一個小島是不實際的，再加上台灣很有錢，應該要為美國提供的保護付出更多代價。對此，財信傳媒董事長謝金河怒轟，川普漫天開價，如果台積電是中國的，美國還能當世界老大？謝金河今（17）日在臉書發文表示，美國保護需要付錢，其實這是川普一貫的立場，就像他對於拜登支助烏克蘭，也很不以為然，川普習慣用「Trade」交易來叫板，不過未來若登大位，恐怕不能那麼任性。謝金河分析，誰控制先進製程晶片，誰就控制全世界，失去台灣，美國怎麼偉大？這是川普必須面對的問題。針對川普說台灣搶了美國的晶片事業，謝反駁，其實這是國際分工，美國人做不來的。這些年台積電老早就到亞利桑那設廠，但面對美國勞工的罷工，沒有人願意加班的問題束手無策，反而是晚美國兩年的日本熊本已經開始運作，這是國際產業分工的現實。而台積電會擁有強大競爭力，謝金河認為，除了張忠謀，劉德音，魏哲家團隊的卓越領導，台積電員工任勞任怨的不眠不休努力，還有台積電亮眼的稅後淨利可以持續支持台積電的資本支出，不停地擴廠。謝金河強調，上述這些特質，川普可能沒有搞清楚。如果美國製造真的那麼強，今天的Intel怎麼會這麼慘？謝金河最後痛批，川普交易把複雜的問題簡單化，凡事漫天開價，連地緣政治戰略也拿來叫板，這會給美國帶來致命危險。最簡單的命題，如果台積電是中國的，美國還會是世界老大？\n",
      "摘要: 美國前總統特朗普最近表示，台灣100％搶走了我們的籌碼業務。Caixin Media董事長Xie Jinhe很生氣，四川開了價格。如果TSMC在中國，美國仍然可以成為世界的老闆嗎？\n",
      "情緒分數: {'neg': 0.077, 'neu': 0.797, 'pos': 0.127, 'compound': 0.9772}\n"
     ]
    }
   ],
   "source": [
    "from transformers import BartForConditionalGeneration, BartTokenizer\n",
    "from vaderSentiment.vaderSentiment import SentimentIntensityAnalyzer\n",
    "from googletrans import Translator\n",
    "\n",
    "model = BartForConditionalGeneration.from_pretrained('facebook/bart-large-cnn')\n",
    "tokenizer = BartTokenizer.from_pretrained('facebook/bart-large-cnn')\n",
    "\n",
    "def summarize_text(text):\n",
    "    inputs = tokenizer.encode(\"summarize: \" + text, return_tensors='pt', max_length=1024, truncation=True)\n",
    "    summary_ids = model.generate(inputs, max_length=200, min_length=40, length_penalty=2.0, num_beams=4, early_stopping=True)\n",
    "    summary = tokenizer.decode(summary_ids[0], skip_special_tokens=True)\n",
    "    return summary\n",
    "\n",
    "def analyze_sentiment_vader(text):\n",
    "    analyzer = SentimentIntensityAnalyzer()\n",
    "    sentiment = analyzer.polarity_scores(text)\n",
    "    return sentiment\n",
    "\n",
    "def translate_chinese_to_english(text, src='zh-TW', dest='en'):\n",
    "    translator = Translator()\n",
    "    translation = translator.translate(text, src=src, dest=dest)\n",
    "    return translation.text\n",
    "\n",
    "# 生成摘要\n",
    "print(f\"文章內容: {main_content}\")\n",
    "content = translate_chinese_to_english(main_content)\n",
    "summary = summarize_text(content)\n",
    "zh_summary = translate_chinese_to_english(summary, \"en\", \"zh-TW\")\n",
    "print(f\"摘要: {zh_summary}\")\n",
    "# 分析情緒\n",
    "sentiment = analyze_sentiment_vader(content)\n",
    "print(f\"情緒分數: {sentiment}\")\n"
   ]
  },
  {
   "cell_type": "code",
   "execution_count": 58,
   "id": "e5b6961d-2b80-4963-b633-6b22befbefa4",
   "metadata": {},
   "outputs": [
    {
     "name": "stdout",
     "output_type": "stream",
     "text": [
      "US Republican presidential candidate Trump said Taiwan should pay US defense costs because Taiwan did not bring anything to the United States. On the 17th of the Taiwan stock market, TSMC's stock price also plummeted.\n",
      "情緒分數: {'neg': 0.037, 'neu': 0.849, 'pos': 0.114, 'compound': 0.4404}\n"
     ]
    }
   ],
   "source": [
    "print(summary)\n",
    "sentiment = analyze_sentiment_vader(summary)\n",
    "print(f\"情緒分數: {sentiment}\")"
   ]
  },
  {
   "cell_type": "code",
   "execution_count": 47,
   "id": "f88e1144-fc6b-4724-9419-5454f5154700",
   "metadata": {},
   "outputs": [
    {
     "data": {
      "text/plain": [
       "'美國共和黨總統候選人川普表示，台灣應該付給美國國防費用，因為台灣並沒有帶給美國任何東西。17日台股盤中，台積電股價也一度出現大跌。川普在6月25日接受彭博商業周刊（Bloomberg Businessweek）採訪時曾說，自己非常了解這些人，也非常尊重這些人。台灣確實拿走了美國大約100%晶片業務。因此，台灣應該向美國支付國防費用。川普補充，其實美國政府跟保險公司沒有什麼不同。台灣沒給美國任何東西，此報導於美國時間16日發布。路透社表示，美國是台灣最重要的國際支持者以及武器供應國，但台北雙方沒有正式的防禦協定。不過，美國有法律義務要提供給台灣自衛性軍武。路透社指出，美國總統拜登之前的談話讓中國大陸感到不安，因為拜登的言論似乎暗示，若台灣受到攻擊美國將保衛台灣，這不符合美國長期以來的戰略模糊立場（strategic ambiguity）。全球最大晶圓代工廠，還有身兼蘋果與NVIDIA主要供應商的台積電，17日台股交易時一度大跌超過2%，當時大盤約跌0.4%。正如火如荼在海外各地建造新晶圓廠，且18日將舉辦法說會的台積電曾表示，大部分製造業務還是續留台灣。'"
      ]
     },
     "execution_count": 47,
     "metadata": {},
     "output_type": "execute_result"
    }
   ],
   "source": [
    "news.find('div', class_='caas-body').text.split(\"】\")[1]"
   ]
  },
  {
   "cell_type": "code",
   "execution_count": null,
   "id": "38914b0a-325b-4917-a4aa-966df2b0d203",
   "metadata": {},
   "outputs": [],
   "source": []
  }
 ],
 "metadata": {
  "kernelspec": {
   "display_name": "Python 3.10",
   "language": "python",
   "name": "py310"
  },
  "language_info": {
   "codemirror_mode": {
    "name": "ipython",
    "version": 3
   },
   "file_extension": ".py",
   "mimetype": "text/x-python",
   "name": "python",
   "nbconvert_exporter": "python",
   "pygments_lexer": "ipython3",
   "version": "3.10.0"
  }
 },
 "nbformat": 4,
 "nbformat_minor": 5
}
