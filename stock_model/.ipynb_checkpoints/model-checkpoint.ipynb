{
 "cells": [
  {
   "cell_type": "code",
   "execution_count": 1,
   "id": "41061394-61ac-411e-8a00-2326b1fa59a9",
   "metadata": {},
   "outputs": [
    {
     "name": "stdout",
     "output_type": "stream",
     "text": [
      "Requirement already satisfied: twstock in c:\\users\\edwar\\appdata\\local\\programs\\python\\python37\\lib\\site-packages (1.4.0)\n",
      "Requirement already satisfied: requests in c:\\users\\edwar\\appdata\\local\\programs\\python\\python37\\lib\\site-packages (from twstock) (2.27.1)\n",
      "Requirement already satisfied: certifi>=2017.4.17 in c:\\users\\edwar\\appdata\\local\\programs\\python\\python37\\lib\\site-packages (from requests->twstock) (2022.5.18.1)\n",
      "Requirement already satisfied: idna<4,>=2.5 in c:\\users\\edwar\\appdata\\local\\programs\\python\\python37\\lib\\site-packages (from requests->twstock) (3.3)\n",
      "Requirement already satisfied: urllib3<1.27,>=1.21.1 in c:\\users\\edwar\\appdata\\local\\programs\\python\\python37\\lib\\site-packages (from requests->twstock) (1.26.9)\n",
      "Requirement already satisfied: charset-normalizer~=2.0.0 in c:\\users\\edwar\\appdata\\local\\programs\\python\\python37\\lib\\site-packages (from requests->twstock) (2.0.12)\n",
      "Note: you may need to restart the kernel to use updated packages.\n"
     ]
    },
    {
     "name": "stderr",
     "output_type": "stream",
     "text": [
      "WARNING: There was an error checking the latest version of pip.\n"
     ]
    }
   ],
   "source": [
    "pip install twstock"
   ]
  },
  {
   "cell_type": "code",
   "execution_count": 2,
   "id": "01785cf8-97ee-4f57-9f83-e36e29dd4f39",
   "metadata": {},
   "outputs": [
    {
     "data": {
      "text/plain": [
       "twstock.stock.Stock"
      ]
     },
     "execution_count": 2,
     "metadata": {},
     "output_type": "execute_result"
    }
   ],
   "source": [
    "from twstock import Stock\n",
    "stock = Stock('2330')\n",
    "type(stock)"
   ]
  },
  {
   "cell_type": "code",
   "execution_count": 4,
   "id": "37600f34-931a-4f34-baf4-c6e35a196622",
   "metadata": {},
   "outputs": [
    {
     "data": {
      "text/plain": [
       "0.0034808847325709957"
      ]
     },
     "execution_count": 4,
     "metadata": {},
     "output_type": "execute_result"
    }
   ],
   "source": [
    "data = stock.fetch_from(2018, 1)\n",
    "stock_number = 25932070992\n",
    "int(data[-1].capacity) / stock_number"
   ]
  },
  {
   "cell_type": "code",
   "execution_count": 5,
   "id": "209854e4-a2d7-4ceb-ada5-634d0e26534e",
   "metadata": {},
   "outputs": [],
   "source": [
    "import numpy as np\n",
    "import random \n",
    "\n",
    "class Neuron:\n",
    "    \n",
    "    def __init__(self, samples:list, epoches:int, learning_rate:float, convergence:float, targets:list):\n",
    "        self.samples = samples\n",
    "        self.targets = targets\n",
    "        self.weights = []\n",
    "        self.epoches = epoches\n",
    "        self.learning_rate = learning_rate\n",
    "        self.convergence = convergence\n",
    "    \n",
    "    def train(self):   \n",
    "        random.seed(42)\n",
    "        #取得隨機權重\n",
    "        for i in range(len(self.samples[0])):\n",
    "            random_weights = round(random.random(), 2)\n",
    "            self.weights.append(random_weights)\n",
    "        \n",
    "        for current_epoch in range(self.epoches):\n",
    "            error_value = 0\n",
    "            for index, feature in enumerate(self.samples):\n",
    "                net_output = np.dot(feature,self.weights)\n",
    "                error_value += 1/2*((self.targets[index]-net_output)**2)\n",
    "                delta_value = net_output - self.targets[index]\n",
    "                delta_weight = np.multiply(delta_value, feature)\n",
    "                # print(self.weights)\n",
    "                self.weights = np.subtract(self.weights, self.learning_rate * delta_weight)\n",
    "            error_value = 1/2*error_value\n",
    "            if error_value <= self.convergence:\n",
    "                break\n",
    "                \n",
    "    def predict(self,samples):\n",
    "        for sample in samples:\n",
    "            net_output = np.dot(sample, self.weights)\n",
    "            print(\"樣本:%s,預測結果:%s\" % (sample,float(net_output)))"
   ]
  },
  {
   "cell_type": "code",
   "execution_count": 6,
   "id": "eb96fc4c-09e9-4d11-9ffd-c481669f0646",
   "metadata": {},
   "outputs": [],
   "source": [
    "clear_list = [(i.open /1000, i.high/1000, i.low/1000, i.close/1000, i.capacity/stock_number) for i in data]"
   ]
  },
  {
   "cell_type": "code",
   "execution_count": 10,
   "id": "cf693d72-99fb-41b5-adaa-b4132f854176",
   "metadata": {},
   "outputs": [],
   "source": [
    "target_list = [i[3] for i in clear_list]"
   ]
  },
  {
   "cell_type": "code",
   "execution_count": 7,
   "id": "0c71af42-5ab5-4b6a-9d30-055a27d526c9",
   "metadata": {},
   "outputs": [],
   "source": [
    "import tensorflow as tf\n",
    "import numpy as np\n",
    "import random\n",
    "\n",
    "class Neuron:\n",
    "    random.seed(42)\n",
    "    def __init__(self, samples:tf.constant, targets:tf.constant, epoches:int):\n",
    "        self.samples = samples\n",
    "        self.targets = targets\n",
    "        self.weights = tf.Variable([random.random() for _ in range(self.samples.shape[1])], dtype=tf.float32)\n",
    "        self.epoches = epoches\n",
    "        self.learning_rate = 0.0001\n",
    "        self.convergence = 0.001\n",
    "    \n",
    "    def train(self):\n",
    "        for current_epoch in range(self.epoches):\n",
    "            error_value = 0.0\n",
    "            with tf.GradientTape() as tape:\n",
    "                predictions = tf.reduce_sum(self.samples * self.weights, axis=1)\n",
    "                loss = tf.reduce_mean(0.5 * tf.square(self.targets - predictions))\n",
    "                error_value = loss.numpy()\n",
    "            \n",
    "            gradients = tape.gradient(loss, [self.weights])\n",
    "            self.weights.assign_sub(self.learning_rate * gradients[0])\n",
    "            if error_value <= self.convergence:\n",
    "                break\n",
    "\n",
    "    def predict(self, samples):\n",
    "        samples_tensor = tf.constant(samples, dtype=tf.float32)\n",
    "        predictions = tf.reduce_sum(samples_tensor * self.weights, axis=1)\n",
    "        for sample, prediction in zip(samples, predictions.numpy()):\n",
    "            print(f\"Sample: {sample}, Prediction: {prediction}\")\n",
    "            return prediction\n",
    "\n"
   ]
  },
  {
   "cell_type": "code",
   "execution_count": 21,
   "id": "fab0330f",
   "metadata": {},
   "outputs": [
    {
     "data": {
      "text/plain": [
       "(0.988, 0.995, 0.97, 0.97, 0.004262734898192354)"
      ]
     },
     "execution_count": 21,
     "metadata": {},
     "output_type": "execute_result"
    }
   ],
   "source": [
    "clear_list[-2]"
   ]
  },
  {
   "cell_type": "code",
   "execution_count": 27,
   "id": "1ff1a2e1",
   "metadata": {},
   "outputs": [
    {
     "name": "stdout",
     "output_type": "stream",
     "text": [
      "1566 29\n",
      "tf.Tensor([0.885     0.888     0.879     0.879     0.0017156], shape=(5,), dtype=float32) \n",
      " tf.Tensor([0.988      0.995      0.97       0.97       0.00426273], shape=(5,), dtype=float32)\n"
     ]
    }
   ],
   "source": [
    "train_samples = tf.constant(clear_list[:-30], dtype=tf.float32)\n",
    "valid_samples = tf.constant(clear_list[-30:-1], dtype=tf.float32)\n",
    "print(len(train_samples), len(valid_samples))\n",
    "print(train_samples[-1],\"\\n\",valid_samples[-1])"
   ]
  },
  {
   "cell_type": "code",
   "execution_count": 29,
   "id": "ea2e67a6-e952-4904-8f1b-fdc9f99ce4c5",
   "metadata": {},
   "outputs": [
    {
     "name": "stdout",
     "output_type": "stream",
     "text": [
      "1566 29\n",
      "tf.Tensor(0.883, shape=(), dtype=float32) \n",
      " tf.Tensor(0.939, shape=(), dtype=float32)\n"
     ]
    }
   ],
   "source": [
    "train_targets = tf.constant(target_list[1:-29], dtype=tf.float32)\n",
    "valid_tragets = tf.constant(target_list[-29:], dtype=tf.float32)\n",
    "print(len(train_targets), len(valid_tragets))\n",
    "print(train_targets[-1],\"\\n\",valid_tragets[-1])"
   ]
  },
  {
   "cell_type": "code",
   "execution_count": 35,
   "id": "9916aa38-6ff8-4826-9915-8fd35c9a00e4",
   "metadata": {},
   "outputs": [
    {
     "name": "stdout",
     "output_type": "stream",
     "text": [
      "Sample: [0.892      0.895      0.883      0.883      0.00221485], Prediction: 1.1243292093276978\n",
      "Sample: [0.888      0.914      0.888      0.909      0.00200042], Prediction: 1.1310008764266968\n",
      "Sample: [0.923      0.935      0.911      0.919      0.00230048], Prediction: 1.1647300720214844\n",
      "Sample: [0.916      0.922      0.905      0.922      0.00166934], Prediction: 1.1586663722991943\n",
      "Sample: [0.913      0.925      0.913      0.921      0.00111046], Prediction: 1.1581751108169556\n",
      "Sample: [0.944      0.95       0.94       0.943      0.00157606], Prediction: 1.1936572790145874\n",
      "Sample: [0.953      0.984      0.953      0.981      0.00295712], Prediction: 1.215570330619812\n",
      "Sample: [0.971      0.981      0.971      0.981      0.00201083], Prediction: 1.2321224212646484\n",
      "Sample: [0.961      0.978      0.96       0.97       0.00377894], Prediction: 1.2194108963012695\n",
      "Sample: [0.958      0.96       0.94       0.94       0.00285676], Prediction: 1.2032010555267334\n",
      "Sample: [0.925      0.945      0.923      0.945      0.00239394], Prediction: 1.1768341064453125\n",
      "Sample: [0.951      0.96       0.951      0.96       0.00188265], Prediction: 1.2064719200134277\n",
      "Sample: [0.951     0.961     0.949     0.96      0.0015917], Prediction: 1.2060391902923584\n",
      "Sample: [0.956      0.971      0.955      0.966      0.00165813], Prediction: 1.2131134271621704\n",
      "Sample: [9.6799999e-01 9.7700000e-01 9.6499997e-01 9.6799999e-01 8.0734026e-04], Prediction: 1.2246153354644775\n",
      "Sample: [0.967      0.971      0.959      0.96       0.00107947], Prediction: 1.2199875116348267\n",
      "Sample: [9.7600001e-01 9.7899997e-01 9.6700001e-01 9.7899997e-01 9.6492603e-04], Prediction: 1.2339816093444824\n",
      "Sample: [1.         1.01       0.997      1.005      0.00182213], Prediction: 1.2666757106781006\n",
      "Sample: [1.00500e+00 1.01000e+00 1.00000e+00 1.00500e+00 8.38175e-04], Prediction: 1.2707990407943726\n",
      "Sample: [1.005      1.05       1.         1.035      0.00176146], Prediction: 1.2813457250595093\n",
      "Sample: [1.03       1.055      1.025      1.04       0.00209547], Prediction: 1.30632483959198\n",
      "Sample: [1.02       1.05       1.015      1.045      0.00199793], Prediction: 1.2982218265533447\n",
      "Sample: [1.065      1.08       1.055      1.08       0.00190129], Prediction: 1.3504505157470703\n",
      "Sample: [1.03       1.045      1.025      1.04       0.00306465], Prediction: 1.3059498071670532\n",
      "Sample: [1.04       1.045      1.025      1.04       0.00170149], Prediction: 1.3128808736801147\n",
      "Sample: [1.04       1.07       1.035      1.055      0.00139767], Prediction: 1.3205924034118652\n",
      "Sample: [1.035      1.045      1.02       1.03       0.00240592], Prediction: 1.3053925037384033\n",
      "Sample: [0.988      1.005      0.986      1.005      0.00363748], Prediction: 1.2556463479995728\n",
      "Sample: [0.988      0.995      0.97       0.97       0.00426273], Prediction: 1.2414989471435547\n"
     ]
    }
   ],
   "source": [
    "nn = Neuron(samples=train_samples, targets=train_targets, epoches=100)\n",
    "nn.train()\n",
    "nn.predict(valid_samples)"
   ]
  },
  {
   "cell_type": "code",
   "execution_count": 32,
   "id": "f5ee34f1-2c9a-4a64-9593-106e78e3a659",
   "metadata": {},
   "outputs": [],
   "source": [
    "import matplotlib.pyplot as plt"
   ]
  },
  {
   "cell_type": "code",
   "execution_count": 38,
   "id": "901cf7c2",
   "metadata": {},
   "outputs": [
    {
     "data": {
      "image/png": "[encoded data removed]",
      "text/plain": [
       "<Figure size 432x288 with 1 Axes>"
      ]
     },
     "metadata": {
      "needs_background": "light"
     },
     "output_type": "display_data"
    }
   ],
   "source": [
    "x = [i for i in range(len(target_list[-29:]))]\n",
    "y = target_list[-29:]\n",
    "plt.plot(x, y, 'ro--', linewidth=2, markersize=6)\n",
    "plt.show()"
   ]
  },
  {
   "cell_type": "code",
   "execution_count": null,
   "id": "fb43e35b",
   "metadata": {},
   "outputs": [],
   "source": []
  }
 ],
 "metadata": {
  "kernelspec": {
   "display_name": "Python 3 (ipykernel)",
   "language": "python",
   "name": "python3"
  },
  "language_info": {
   "codemirror_mode": {
    "name": "ipython",
    "version": 3
   },
   "file_extension": ".py",
   "mimetype": "text/x-python",
   "name": "python",
   "nbconvert_exporter": "python",
   "pygments_lexer": "ipython3",
   "version": "3.7.9"
  }
 },
 "nbformat": 4,
 "nbformat_minor": 5
}
